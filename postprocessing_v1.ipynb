{
 "cells": [
  {
   "cell_type": "code",
   "execution_count": 1,
   "metadata": {
    "collapsed": true
   },
   "outputs": [],
   "source": [
    "import os\n",
    "import os.path\n",
    "from os import walk\n",
    "from os.path import join\n",
    "import numpy as np\n",
    "\n",
    "base_path = '/home/workspace/kaggle/download_files/'\n",
    "\n",
    "\n",
    "def get_picture(path):\n",
    "    path0 = join(base_path + path)\n",
    "    picture = []\n",
    "    for _,_,filenames in walk(path0):\n",
    "        for filename in filenames:\n",
    "            file_prefix = os.path.splitext(filename)[0]\n",
    "            if os.path.exists(join(path0, file_prefix + \".jpg\")):\n",
    "                picture.append(filename)\n",
    "            elif os.path.exists(join(path0, file_prefix + \".gif\")):\n",
    "                picture.append(filename)\n",
    "            else:\n",
    "                print(\"路径不对或者没有这种格式的文件\")\n",
    "    return picture"
   ]
  },
  {
   "cell_type": "code",
   "execution_count": 2,
   "metadata": {},
   "outputs": [
    {
     "data": {
      "text/plain": [
       "(5088, 5088)"
      ]
     },
     "execution_count": 2,
     "metadata": {},
     "output_type": "execute_result"
    }
   ],
   "source": [
    "car_pictures = get_picture(\"train\")\n",
    "\n",
    "mask_pictures = get_picture(\"train_masks\")\n",
    "\n",
    "len(car_pictures), len(mask_pictures)"
   ]
  },
  {
   "cell_type": "code",
   "execution_count": 3,
   "metadata": {},
   "outputs": [
    {
     "name": "stdout",
     "output_type": "stream",
     "text": [
      "3801 \n",
      " 1267 \n",
      " 20\n"
     ]
    }
   ],
   "source": [
    "train_set = car_pictures[0:3801]\n",
    "valid_set = car_pictures[3801:5068]\n",
    "test_set = car_pictures[5068:5088]\n",
    "print(len(train_set),'\\n',len(valid_set),'\\n',len(test_set))"
   ]
  },
  {
   "cell_type": "code",
   "execution_count": 4,
   "metadata": {
    "collapsed": true
   },
   "outputs": [],
   "source": [
    "# test = get_picture('test')\n",
    "# print(test[0])"
   ]
  },
  {
   "cell_type": "code",
   "execution_count": 4,
   "metadata": {
    "collapsed": true
   },
   "outputs": [],
   "source": [
    "def predict_from_model(patch, model):\n",
    "    \n",
    "    prediction = model.predict(patch.reshape(1, 128, 128, 3))\n",
    "    prediction = prediction[:, :, :, 1].reshape(128, 128)\n",
    "    return prediction"
   ]
  },
  {
   "cell_type": "code",
   "execution_count": 5,
   "metadata": {
    "collapsed": true
   },
   "outputs": [],
   "source": [
    "# 定义预测整张汽车图片的函数\n",
    "def image_prediction(model, car_pic, widths=128, heights=128):\n",
    "    pat_pred = np.zeros((128, 1920))\n",
    "    for i in range(car_pic.size[1]//heights):\n",
    "        pat_pre = np.zeros((128,128))\n",
    "        for j in range(car_pic.size[0]//widths):\n",
    "            pat = car_pic.crop((j*widths,i*widths,(j+1)*widths,(i+1)*heights))\n",
    "            pat_array = np.array(pat)\n",
    "            pre_pat = predict_from_model(pat_array, model)\n",
    "            pat_pre = np.hstack((pat_pre, pre_pat))\n",
    "        pat_pred = np.vstack((pat_pred, pat_pre))\n",
    "#     print((np.array(pat_pred)).shape)\n",
    "    predic01 = np.array(pat_pred)\n",
    "    for k in range(widths):    # 去掉两行,1 pixel\n",
    "        predic01 = np.delete(predic01,k,1)\n",
    "        predic01 = np.delete(predic01,k,0)\n",
    "    predic02 = np.column_stack((predic01,(np.zeros((1280,126))).astype(int)))    # 增加一排,126 pixel\n",
    "#     print(predic02.shape)\n",
    "    return predic02"
   ]
  },
  {
   "cell_type": "code",
   "execution_count": 6,
   "metadata": {
    "collapsed": true
   },
   "outputs": [],
   "source": [
    "import numpy as np\n",
    "\n",
    "def pred_by_threshold(prediction, threshold):\n",
    "    '''\n",
    "    本函数通过设置阈值，归一化预测结果。\n",
    "    \n",
    "    输入：\n",
    "        prediction:h5预测的结果，是一个概率矩阵\n",
    "        threshold:阈值，取值范围是0-1之间\n",
    "    输出：\n",
    "        pred_bin:一维二值数组\n",
    "        pred_one_index:一维角标数组，pred_bin非零元素的角标组成的数组\n",
    "    '''\n",
    "    pred_th = []\n",
    "    for i in range(prediction.shape[0]):\n",
    "        for j in range(prediction.shape[1]):\n",
    "            if prediction[i][j] > threshold:\n",
    "                pred_th.append(1)\n",
    "            else:\n",
    "                pred_th.append(0)\n",
    "    pred_bin = np.array(pred_th)\n",
    "    pred_one_index = np.array(np.nonzero(pred_bin))\n",
    "    return pred_bin, pred_one_index"
   ]
  },
  {
   "cell_type": "code",
   "execution_count": 7,
   "metadata": {
    "collapsed": true
   },
   "outputs": [],
   "source": [
    "def first_half(pred_one_index):\n",
    "    '''\n",
    "    操作角标的函数，将数组中比前一元素大1的元素挑出来，并且删除，eg：\n",
    "        input: [1,2,3,4,9,11,15,17,18,19]\n",
    "        output: [2,3,4,18,19]\n",
    "        output2: [1,9,11,15,17]\n",
    "\n",
    "    输入：\n",
    "        预测矩阵的非零元素的角标数组\n",
    "    输出：\n",
    "        非连续的数字元素组成的新数组\n",
    "    '''\n",
    "    array_p = pred_one_index[0][:]\n",
    "    re_index = []\n",
    "    for index, item in enumerate(array_p):\n",
    "        if index>0 and array_p[index]-array_p[index-1] == 1:\n",
    "            re_index.append(index)\n",
    "    fh = np.delete(array_p, re_index, 0)\n",
    "    return fh"
   ]
  },
  {
   "cell_type": "code",
   "execution_count": 8,
   "metadata": {
    "collapsed": true
   },
   "outputs": [],
   "source": [
    "from itertools import groupby\n",
    "\n",
    "def RLE(data):\n",
    "    x = []\n",
    "    jiaobiao = []\n",
    "    for name, group in groupby(data):\n",
    "        if name == 1:\n",
    "            x.append(len(list(group)))\n",
    "    yield x"
   ]
  },
  {
   "cell_type": "code",
   "execution_count": 9,
   "metadata": {
    "collapsed": true
   },
   "outputs": [],
   "source": [
    "def second_half(pred_bin):\n",
    "    second_half = next(RLE(pred_bin))\n",
    "#     print(len(second_half))\n",
    "    return second_half"
   ]
  },
  {
   "cell_type": "code",
   "execution_count": 10,
   "metadata": {
    "collapsed": true
   },
   "outputs": [],
   "source": [
    "def rle_mask(first_half, second_half):\n",
    "    '''\n",
    "    Input:\n",
    "        first_half:[0,4,7,10,19]\n",
    "        second_half:[3,1,2,3,7]\n",
    "    Output:\n",
    "        [0,3,4,1,7,2,10,3,19,7]\n",
    "    '''\n",
    "    rle_element = (np.ones((2*len(second_half)))).astype(int)    # 定义行程长度数组\n",
    "#     print(rle_element,'\\n')\n",
    "    for i in range(first_half.shape[0]):\n",
    "        rle_element[i*2] =  first_half[i]\n",
    "        rle_element[i*2+1] = second_half[i]\n",
    "#     print(rle_element,'\\n')\n",
    "    rle_mask = []\n",
    "    for i in range(rle_element.shape[0]):\n",
    "        rle_mask.append(rle_element[i])\n",
    "    return rle_mask"
   ]
  },
  {
   "cell_type": "code",
   "execution_count": 11,
   "metadata": {},
   "outputs": [
    {
     "name": "stderr",
     "output_type": "stream",
     "text": [
      "Using TensorFlow backend.\n"
     ]
    }
   ],
   "source": [
    "from keras.models import load_model\n",
    "\n",
    "model = load_model('./model_64_200.h5')"
   ]
  },
  {
   "cell_type": "code",
   "execution_count": 13,
   "metadata": {},
   "outputs": [
    {
     "name": "stdout",
     "output_type": "stream",
     "text": [
      "当前是第 0 张图片\n",
      "当前是第 2 张图片\n",
      "当前是第 4 张图片\n",
      "当前是第 6 张图片\n",
      "当前是第 8 张图片\n",
      "当前是第 10 张图片\n",
      "当前是第 12 张图片\n",
      "当前是第 14 张图片\n",
      "当前是第 16 张图片\n",
      "当前是第 18 张图片\n",
      "本段代码执行时间是: 55.84 s\n"
     ]
    }
   ],
   "source": [
    "from PIL import Image\n",
    "import time\n",
    "import csv\n",
    "\n",
    "start_time = time.clock()\n",
    "\n",
    "csvfile = open('submission.csv','w')\n",
    "fieldnames = ['img', 'rle_mask']\n",
    "writer = csv.DictWriter(csvfile, fieldnames=fieldnames)\n",
    "writer.writeheader()\n",
    "for i in range(len(test_set)):\n",
    "    order_path = join(base_path, \"train/\" + test_set[i])    \n",
    "    car_pic = Image.open(order_path)   \n",
    "    image_pred = image_prediction(model, car_pic)\n",
    "    pred_bin, pred_one_index = pred_by_threshold(image_pred, 0.5)\n",
    "    first_h = first_half(pred_one_index)\n",
    "#     print(len(first_h))\n",
    "    second_h = second_half(pred_bin)\n",
    "    rle_mask_value = rle_mask(first_h, second_h)\n",
    "    writer.writerow({'img': test_set[i], 'rle_mask': (str(rle_mask_value)).replace(',','').replace('[','').replace(']','')})\n",
    "    if i-(i//2)*2 == 0:\n",
    "        print('当前是第 %d 张图片'% i)\n",
    "csvfile.close()\n",
    "end_time = time.clock()\n",
    "print('本段代码执行时间是: %.2f s'%(end_time-start_time))"
   ]
  },
  {
   "cell_type": "code",
   "execution_count": null,
   "metadata": {
    "collapsed": true
   },
   "outputs": [],
   "source": []
  }
 ],
 "metadata": {
  "kernelspec": {
   "display_name": "Python 3",
   "language": "python",
   "name": "python3"
  },
  "language_info": {
   "codemirror_mode": {
    "name": "ipython",
    "version": 3
   },
   "file_extension": ".py",
   "mimetype": "text/x-python",
   "name": "python",
   "nbconvert_exporter": "python",
   "pygments_lexer": "ipython3",
   "version": "3.5.3"
  }
 },
 "nbformat": 4,
 "nbformat_minor": 2
}
